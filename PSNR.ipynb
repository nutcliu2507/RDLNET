{
 "cells": [
  {
   "cell_type": "code",
   "execution_count": 2,
   "metadata": {},
   "outputs": [
    {
     "name": "stdout",
     "output_type": "stream",
     "text": [
      "torch : 1.9.0+cu111\n",
      "cuda_ver : 11.1\n",
      "cudnn : 8005\n",
      "python_ver : 3.9.9 | packaged by conda-forge | (main, Dec 20 2021, 02:40:06) [MSC v.1929 64 bit (AMD64)]\n",
      "is_available : True\n",
      "current_device : 0\n"
     ]
    }
   ],
   "source": [
    "import torch\n",
    "import sys\n",
    "print(f'torch : {torch.__version__}')\n",
    "print(f'cuda_ver : {torch.version.cuda}')\n",
    "print(f'cudnn : {torch.backends.cudnn.version()}')\n",
    "print(f'python_ver : {sys.version}')\n",
    "print(f'is_available : {torch.cuda.is_available()}')\n",
    "print(f'current_device : {torch.cuda.current_device()}')"
   ]
  },
  {
   "cell_type": "code",
   "execution_count": 12,
   "metadata": {},
   "outputs": [
    {
     "name": "stdout",
     "output_type": "stream",
     "text": [
      "MSE:  182.29991500289353\n",
      "PSNR:  25.522938947021437\n"
     ]
    }
   ],
   "source": [
    "import cv2\n",
    "from skimage.metrics import mean_squared_error\n",
    "from skimage.metrics import peak_signal_noise_ratio\n",
    "gt_image= 'D:/AI_master/SR_datasets/REDS4/GT/020/00000075.png'\n",
    "# target_imgage ='D:/AI_master/images_compare/RDN_VSR/RED_train/REDS4/020/00000075.png'\n",
    "# target_imgage ='D:/AI_master/images_compare/BasicVSR/RED_train/REDS4/020/00000075.png'\n",
    "# target_imgage ='D:/AI_master/images_compare/EDVR_M/RED_train/REDS4/020/00000075_EDVR_M_x4_SR_REDS_official.png'\n",
    "# target_imgage ='D:/AI_master/images_compare/EDVR_L/RED_train/REDS4/020/00000075_EDVR_L_x4_REDS_SR_official.png'\n",
    "target_imgage ='D:/AI_master/images_compare/Bicubic/REDS4/020/00000075.png'\n",
    "img1 = cv2.imread(gt_image)\n",
    "img2 = cv2.imread(target_imgage)\n",
    "MSE = mean_squared_error(img1, img2)\n",
    "PSNR = peak_signal_noise_ratio(img1, img2)\n",
    "print('MSE: ', MSE)\n",
    "print('PSNR: ', PSNR)\n",
    "\n",
    "\n",
    "\n"
   ]
  },
  {
   "cell_type": "code",
   "execution_count": 21,
   "metadata": {},
   "outputs": [
    {
     "name": "stdout",
     "output_type": "stream",
     "text": [
      "MSE:  168.73954680266203\n",
      "PSNR:  25.85863482514688\n"
     ]
    }
   ],
   "source": [
    "import cv2\n",
    "from skimage.metrics import mean_squared_error\n",
    "from skimage.metrics import peak_signal_noise_ratio\n",
    "gt_image= 'D:/AI_master/SR_datasets/REDS4/GT/011/00000042.png'\n",
    "# target_imgage ='D:/AI_master/images_compare/RDN_VSR/RED_train/REDS4/011/00000042.png'\n",
    "# target_imgage ='D:/AI_master/images_compare/BasicVSR/RED_train/REDS4/011/00000042.png'\n",
    "# target_imgage ='D:/AI_master/images_compare/EDVR_M/RED_train/REDS4/011/00000042_EDVR_M_x4_SR_REDS_official.png'\n",
    "target_imgage ='D:/AI_master/images_compare/EDVR_L/RED_train/REDS4/011/00000042_EDVR_L_x4_REDS_SR_official.png'\n",
    "# target_imgage ='D:/AI_master/images_compare/Bicubic/REDS4/020/00000042.png'\n",
    "img1 = cv2.imread(gt_image)\n",
    "img2 = cv2.imread(target_imgage)\n",
    "MSE = mean_squared_error(img1, img2)\n",
    "PSNR = peak_signal_noise_ratio(img1, img2)\n",
    "print('MSE: ', MSE)\n",
    "print('PSNR: ', PSNR)"
   ]
  },
  {
   "cell_type": "code",
   "execution_count": 3,
   "metadata": {},
   "outputs": [
    {
     "name": "stdout",
     "output_type": "stream",
     "text": [
      "MSE:  260.4636057844066\n",
      "PSNR:  23.97333312354116\n"
     ]
    }
   ],
   "source": [
    "import cv2\n",
    "from skimage.metrics import mean_squared_error\n",
    "from skimage.metrics import peak_signal_noise_ratio\n",
    "gt_image= 'D:/AI_master/SR_datasets/Vid4/GT/city/00000020.png'\n",
    "# target_imgage ='D:/AI_master/images_compare/RDN_VSR/RED_train/vid4/city/00000020.png'\n",
    "# target_imgage ='D:/AI_master/images_compare/BasicVSR/vimeo90k_train/vid4/city/00000020.png'\n",
    "# target_imgage ='D:/AI_master/images_compare/EDVR_L/vimeo90k_train/Vid4/city/00000020_EDVR_L_x4_Vimeo90K_SR_official.png'\n",
    "# target_imgage ='D:/AI_master/images_compare/EDVR_L/RED_train/REDS4/011/00000042_EDVR_L_x4_REDS_SR_official.png'\n",
    "# target_imgage ='D:/AI_master/images_compare/Bicubic/REDS4/020/00000042.png'\n",
    "# target_imgage ='D:/AI_master/images_compare/DUF/Vid4/city/00000020_DUF_x4_52L_official.png'\n",
    "target_imgage ='D:/AI_master/images_compare/LIIF/vid4/city/00000020.png'\n",
    "\n",
    "img1 = cv2.imread(gt_image)\n",
    "img2 = cv2.imread(target_imgage)\n",
    "MSE = mean_squared_error(img1, img2)\n",
    "PSNR = peak_signal_noise_ratio(img1, img2)\n",
    "print('MSE: ', MSE)\n",
    "print('PSNR: ', PSNR)"
   ]
  },
  {
   "cell_type": "code",
   "execution_count": 7,
   "metadata": {},
   "outputs": [
    {
     "name": "stdout",
     "output_type": "stream",
     "text": [
      "MSE:  51.49765159970238\n",
      "PSNR:  31.01292936109145\n"
     ]
    }
   ],
   "source": [
    "import cv2\n",
    "from skimage.metrics import mean_squared_error\n",
    "from skimage.metrics import peak_signal_noise_ratio\n",
    "gt_image= 'D:/AI_master/SR_datasets/vimeo_90k/vimeo_super_resolution_test/target/00005/0546/im4.png'\n",
    "target_imgage ='D:/AI_master/images_compare/RDN_VSR/vimeo_90k_train/vimeo_90k_T/00005_0546.png'\n",
    "# target_imgage ='D:/AI_master/images_compare/BasicVSR/vimeo90k_train/vimeo_90k_T/00005_0546.png'\n",
    "# target_imgage ='D:/AI_master/images_compare/EDVR_L/vimeo90k_train/vimeo90k/vimeo_super_resolution_test_low_resolution/00005_0546/im4_EDVR_L_x4_Vimeo90K_SR_official.png'\n",
    "# target_imgage ='D:/AI_master/images_compare/EDVR_L/RED_train/REDS4/011/00000042_EDVR_L_x4_REDS_SR_official.png'\n",
    "# target_imgage ='D:/AI_master/images_compare/Bicubic/vimeo_90k_T/005_546/im4.png'\n",
    "# target_imgage ='D:/AI_master/images_compare/DUF/vimeo90k/00005_0546/im4_DUF_x4_52L_official_fix.png'\n",
    "\n",
    "img1 = cv2.imread(gt_image)\n",
    "img2 = cv2.imread(target_imgage)\n",
    "MSE = mean_squared_error(img1, img2)\n",
    "PSNR = peak_signal_noise_ratio(img1, img2)\n",
    "print('MSE: ', MSE)\n",
    "print('PSNR: ', PSNR)"
   ]
  }
 ],
 "metadata": {
  "kernelspec": {
   "display_name": "Python 3.8.8 ('base')",
   "language": "python",
   "name": "python3"
  },
  "language_info": {
   "codemirror_mode": {
    "name": "ipython",
    "version": 3
   },
   "file_extension": ".py",
   "mimetype": "text/x-python",
   "name": "python",
   "nbconvert_exporter": "python",
   "pygments_lexer": "ipython3",
   "version": "3.8.8"
  },
  "orig_nbformat": 4,
  "vscode": {
   "interpreter": {
    "hash": "ad2bdc8ecc057115af97d19610ffacc2b4e99fae6737bb82f5d7fb13d2f2c186"
   }
  }
 },
 "nbformat": 4,
 "nbformat_minor": 2
}
